{
 "cells": [
  {
   "cell_type": "code",
   "execution_count": 184,
   "metadata": {},
   "outputs": [],
   "source": [
    "import numpy as np\n",
    "import re "
   ]
  },
  {
   "cell_type": "code",
   "execution_count": 185,
   "metadata": {},
   "outputs": [],
   "source": [
    "\n",
    "def read_arq():\n",
    "    with open('input.txt', 'r') as arquivo:\n",
    "        linhas = arquivo.readlines()\n",
    "    seq_vert = linhas[0].strip()\n",
    "    seq_horiz = linhas[1].strip()\n",
    "    GAP = linhas[2].strip()\n",
    "    mismatch = linhas[3].strip()\n",
    "    match = linhas[4].strip()\n",
    "    return seq_vert, seq_horiz, GAP, mismatch, match\n"
   ]
  },
  {
   "cell_type": "code",
   "execution_count": 186,
   "metadata": {},
   "outputs": [],
   "source": [
    "def smith_waterman(matriz, seq_vert, seq_horiz, GAP, mismatch, match):\n",
    "    GAP = int(GAP)\n",
    "    mismatch = int(mismatch)\n",
    "    match = int(match)\n",
    "\n",
    "    num_lin = len(matriz)\n",
    "    num_col = len(matriz[0])\n",
    "\n",
    "    sum = 0\n",
    "\n",
    "    #set GAP first line\n",
    "    for i in range(num_lin):\n",
    "        for j in range(num_col):\n",
    "            if j == 0 and i != 0:\n",
    "                sum = sum + GAP\n",
    "                matriz[i][j] = sum\n",
    "\n",
    "    sum = 0\n",
    "    \n",
    "    #set GAP first column\n",
    "    for i in range(num_lin):\n",
    "        for j in range(num_col):\n",
    "            if i == 0 and j != 0:\n",
    "                sum = sum + 5\n",
    "                matriz[i][j] = sum\n",
    "\n",
    "\n",
    "    # for i in range(1, num_lin):\n",
    "    #     for j in range(1, num_col):\n",
    "    #         matriz[i][j] = -27\n",
    "\n",
    "    \n",
    "    for i in range(1, num_lin):\n",
    "        for j in range(1, num_col):\n",
    "                max_value = max(matriz[i-1][j-1], matriz[i-1][j], matriz[i][j-1])\n",
    "                matriz[i][j] = max_value\n",
    "\n",
    "\n",
    "    return matriz\n",
    "            "
   ]
  },
  {
   "cell_type": "code",
   "execution_count": 187,
   "metadata": {},
   "outputs": [],
   "source": [
    "def def_matriz(seq_vert, seq_horiz):\n",
    "\n",
    "    num_col = len(seq_vert) + 1\n",
    "    num_lin = len(seq_horiz) + 1\n",
    "    matriz = np.zeros((num_col, num_lin))\n",
    "\n",
    "    return matriz"
   ]
  },
  {
   "cell_type": "code",
   "execution_count": 188,
   "metadata": {},
   "outputs": [
    {
     "name": "stdout",
     "output_type": "stream",
     "text": [
      "Vertical: ATCG\n",
      "Horizontal: TCG\n",
      "GAP: -2\n",
      "Mismatch: -1\n",
      "Match: 1\n",
      "[[ 0.  5. 10. 15.]\n",
      " [-2.  5. 10. 15.]\n",
      " [-4.  5. 10. 15.]\n",
      " [-6.  5. 10. 15.]\n",
      " [-8.  5. 10. 15.]]\n"
     ]
    }
   ],
   "source": [
    "# teste de uso das variáveis\n",
    "print(\"Vertical:\", read_arq()[0])\n",
    "print(\"Horizontal:\", read_arq()[1])\n",
    "print(\"GAP:\", read_arq()[2])\n",
    "print(\"Mismatch:\", read_arq()[3])\n",
    "print(\"Match:\", read_arq()[4])\n",
    "\n",
    "matriz = def_matriz(read_arq()[0], read_arq()[1])\n",
    "matriz = smith_waterman(matriz, read_arq()[0], read_arq()[1], read_arq()[2], read_arq()[3], read_arq()[4])\n",
    "\n",
    "print(matriz)\n"
   ]
  }
 ],
 "metadata": {
  "kernelspec": {
   "display_name": "Python 3",
   "language": "python",
   "name": "python3"
  },
  "language_info": {
   "codemirror_mode": {
    "name": "ipython",
    "version": 3
   },
   "file_extension": ".py",
   "mimetype": "text/x-python",
   "name": "python",
   "nbconvert_exporter": "python",
   "pygments_lexer": "ipython3",
   "version": "3.10.12"
  }
 },
 "nbformat": 4,
 "nbformat_minor": 2
}
