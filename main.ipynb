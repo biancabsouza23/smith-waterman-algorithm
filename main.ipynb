{
 "cells": [
  {
   "cell_type": "markdown",
   "metadata": {},
   "source": [
    "# Smith Waterman Implementation\n",
    "This code implements the Smith-Waterman sequence alignment algorithm in Python. The Smith-Waterman algorithm is a modification of the Needleman-Wunsch algorithm and is used to find local similarities between two sequences of characters, typically DNA, RNA, or protein sequences."
   ]
  },
  {
   "cell_type": "code",
   "execution_count": null,
   "metadata": {},
   "outputs": [],
   "source": [
    "import pandas as pd\n",
    "import tkinter as tk\n",
    "from tkinter import filedialog"
   ]
  },
  {
   "cell_type": "code",
   "execution_count": null,
   "metadata": {},
   "outputs": [],
   "source": [
    "def ler_celula():\n",
    "    nome_arq_xlsx = '8.Atividade.Anexo.Testes para smith_waterman.RNA'\n",
    "    nome_planilha = 'RNA.sequencias'\n",
    "    numero_aluno = int(linha_entry.get()) - 1\n",
    "    nome_coluna = 'RNA'\n",
    "\n",
    "    try:\n",
    "        df = pd.read_excel(nome_arq_xlsx, sheet_name=nome_planilha)\n",
    "        valor_celula = df.at[numero_aluno, nome_coluna]\n",
    "        #txt(valor_celula)  # Chama o método que realiza a tradução\n",
    "        #resultado.config(text=f\"Resultado: Tradução concluída\")\n",
    "    except Exception as e:\n",
    "        resultado.config(text=f\"Ocorreu um erro: {e}\")"
   ]
  },
  {
   "cell_type": "code",
   "execution_count": 1,
   "metadata": {},
   "outputs": [],
   "source": [
    "arquivo = open('input.txt','r')\n",
    "readArquivo = arquivo.read()"
   ]
  },
  {
   "cell_type": "markdown",
   "metadata": {},
   "source": []
  }
 ],
 "metadata": {
  "kernelspec": {
   "display_name": "Python 3",
   "language": "python",
   "name": "python3"
  },
  "language_info": {
   "codemirror_mode": {
    "name": "ipython",
    "version": 3
   },
   "file_extension": ".py",
   "mimetype": "text/x-python",
   "name": "python",
   "nbconvert_exporter": "python",
   "pygments_lexer": "ipython3",
   "version": "3.10.12"
  }
 },
 "nbformat": 4,
 "nbformat_minor": 2
}
