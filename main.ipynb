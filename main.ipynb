{
 "cells": [
  {
   "cell_type": "code",
   "execution_count": 117,
   "metadata": {},
   "outputs": [],
   "source": [
    "import numpy as np\n",
    "import re "
   ]
  },
  {
   "cell_type": "code",
   "execution_count": 118,
   "metadata": {},
   "outputs": [],
   "source": [
    "\n",
    "def read_arq():\n",
    "    with open('input.txt', 'r') as arquivo:\n",
    "        linhas = arquivo.readlines()\n",
    "    seq_vert = linhas[0].strip()\n",
    "    seq_horiz = linhas[1].strip()\n",
    "    GAP = linhas[2].strip()\n",
    "    mismatch = linhas[3].strip()\n",
    "    match = linhas[4].strip()\n",
    "    return seq_vert, seq_horiz, GAP, mismatch, match\n"
   ]
  },
  {
   "cell_type": "code",
   "execution_count": 119,
   "metadata": {},
   "outputs": [
    {
     "ename": "IndentationError",
     "evalue": "unexpected indent (2697639420.py, line 9)",
     "output_type": "error",
     "traceback": [
      "\u001b[0;36m  Cell \u001b[0;32mIn[119], line 9\u001b[0;36m\u001b[0m\n\u001b[0;31m    for i in range(num_lin):\u001b[0m\n\u001b[0m    ^\u001b[0m\n\u001b[0;31mIndentationError\u001b[0m\u001b[0;31m:\u001b[0m unexpected indent\n"
     ]
    }
   ],
   "source": [
    "def smith_waterman(matriz, seq_vert, seq_horiz, GAP, mismatch, match):\n",
    "    GAP = int(GAP)\n",
    "    mismatch = int(mismatch)\n",
    "    match = int(match)\n",
    "\n",
    "    num_lin = len(matriz)\n",
    "    num_col = len(matriz[0])\n",
    "_\n",
    "    for i in range(num_lin):\n",
    "        for j in range(num_col):\n",
    "            if j == 0:\n",
    "                matriz[i][j] = 5\n",
    "            "
   ]
  },
  {
   "cell_type": "code",
   "execution_count": null,
   "metadata": {},
   "outputs": [],
   "source": [
    "def def_matriz(seq_vert, seq_horiz):\n",
    "\n",
    "    num_col = len(seq_vert) + 1\n",
    "    num_lin = len(seq_horiz) + 1\n",
    "    matriz = np.zeros((num_col, num_lin))\n",
    "\n",
    "    return matriz"
   ]
  },
  {
   "cell_type": "code",
   "execution_count": null,
   "metadata": {},
   "outputs": [
    {
     "name": "stdout",
     "output_type": "stream",
     "text": [
      "Vertical: CCCUCAUCGCAUCUCCGCUC\n",
      "Horizontal: CCCCGCCGCGCCC\n",
      "GAP: -2\n",
      "Mismatch: -1\n",
      "Match: 3\n",
      "[[5. 0. 0. 0. 0. 0. 0. 0. 0. 0. 0. 0. 0. 0.]\n",
      " [5. 0. 0. 0. 0. 0. 0. 0. 0. 0. 0. 0. 0. 0.]\n",
      " [5. 0. 0. 0. 0. 0. 0. 0. 0. 0. 0. 0. 0. 0.]\n",
      " [5. 0. 0. 0. 0. 0. 0. 0. 0. 0. 0. 0. 0. 0.]\n",
      " [5. 0. 0. 0. 0. 0. 0. 0. 0. 0. 0. 0. 0. 0.]\n",
      " [5. 0. 0. 0. 0. 0. 0. 0. 0. 0. 0. 0. 0. 0.]\n",
      " [5. 0. 0. 0. 0. 0. 0. 0. 0. 0. 0. 0. 0. 0.]\n",
      " [5. 0. 0. 0. 0. 0. 0. 0. 0. 0. 0. 0. 0. 0.]\n",
      " [5. 0. 0. 0. 0. 0. 0. 0. 0. 0. 0. 0. 0. 0.]\n",
      " [5. 0. 0. 0. 0. 0. 0. 0. 0. 0. 0. 0. 0. 0.]\n",
      " [5. 0. 0. 0. 0. 0. 0. 0. 0. 0. 0. 0. 0. 0.]\n",
      " [5. 0. 0. 0. 0. 0. 0. 0. 0. 0. 0. 0. 0. 0.]\n",
      " [5. 0. 0. 0. 0. 0. 0. 0. 0. 0. 0. 0. 0. 0.]\n",
      " [5. 0. 0. 0. 0. 0. 0. 0. 0. 0. 0. 0. 0. 0.]\n",
      " [5. 0. 0. 0. 0. 0. 0. 0. 0. 0. 0. 0. 0. 0.]\n",
      " [5. 0. 0. 0. 0. 0. 0. 0. 0. 0. 0. 0. 0. 0.]\n",
      " [5. 0. 0. 0. 0. 0. 0. 0. 0. 0. 0. 0. 0. 0.]\n",
      " [5. 0. 0. 0. 0. 0. 0. 0. 0. 0. 0. 0. 0. 0.]\n",
      " [5. 0. 0. 0. 0. 0. 0. 0. 0. 0. 0. 0. 0. 0.]\n",
      " [5. 0. 0. 0. 0. 0. 0. 0. 0. 0. 0. 0. 0. 0.]\n",
      " [5. 0. 0. 0. 0. 0. 0. 0. 0. 0. 0. 0. 0. 0.]]\n"
     ]
    }
   ],
   "source": [
    "# teste de uso das variáveis\n",
    "print(\"Vertical:\", read_arq()[0])\n",
    "print(\"Horizontal:\", read_arq()[1])\n",
    "print(\"GAP:\", read_arq()[2])\n",
    "print(\"Mismatch:\", read_arq()[3])\n",
    "print(\"Match:\", read_arq()[4])\n",
    "\n",
    "matriz = def_matriz(read_arq()[0], read_arq()[1])\n",
    "smith_waterman(matriz, read_arq()[0], read_arq()[1], read_arq()[2], read_arq()[3], read_arq()[4])\n"
   ]
  }
 ],
 "metadata": {
  "kernelspec": {
   "display_name": "Python 3",
   "language": "python",
   "name": "python3"
  },
  "language_info": {
   "codemirror_mode": {
    "name": "ipython",
    "version": 3
   },
   "file_extension": ".py",
   "mimetype": "text/x-python",
   "name": "python",
   "nbconvert_exporter": "python",
   "pygments_lexer": "ipython3",
   "version": "3.10.12"
  }
 },
 "nbformat": 4,
 "nbformat_minor": 2
}
