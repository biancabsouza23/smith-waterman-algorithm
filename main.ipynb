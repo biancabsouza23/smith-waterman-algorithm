{
 "cells": [
  {
   "cell_type": "code",
   "execution_count": 15,
   "metadata": {},
   "outputs": [],
   "source": [
    "import numpy as np\n",
    "import re "
   ]
  },
  {
   "cell_type": "code",
   "execution_count": 16,
   "metadata": {},
   "outputs": [],
   "source": [
    "\n",
    "def read_arq():\n",
    "    with open('input.txt', 'r') as arquivo:\n",
    "        linhas = arquivo.readlines()\n",
    "    seq_vert = linhas[0].strip()\n",
    "    seq_horiz = linhas[1].strip()\n",
    "    GAP = linhas[2].strip()\n",
    "    mismatch = linhas[3].strip()\n",
    "    match = linhas[4].strip()\n",
    "    return seq_vert, seq_horiz, GAP, mismatch, match\n"
   ]
  },
  {
   "cell_type": "code",
   "execution_count": null,
   "metadata": {},
   "outputs": [],
   "source": [
    "def matriz(seq_vert, seq_horiz, GAP, mismatch, match):\n",
    "    GAP = int(GAP)\n",
    "    mismatch = int(mismatch)\n",
    "    match = int(match)\n",
    "    matriz = np.zeros((len(seq_vert)+1, len(seq_horiz)+1))\n",
    "    for i in range(len(seq_vert)+1):\n",
    "        matriz[i][0] = i * GAP\n",
    "    for j in range(len(seq_horiz)+1):\n",
    "        matriz[0][j] = j * GAP\n",
    "    for i in range(1, len(seq_vert)+1):\n",
    "        for j in range(1, len(seq_horiz)+1):\n",
    "            if seq_vert[i-1] == seq_horiz[j-1]:\n",
    "                matriz[i][j] = max(matriz[i-1][j-1] + match, matriz[i-1][j] + GAP, matriz[i][j-1] + GAP)\n",
    "            else:\n",
    "                matriz[i][j] = max(matriz[i-1][j-1] + mismatch, matriz[i-1][j] + GAP, matriz[i][j-1] + GAP)\n",
    "    return matriz"
   ]
  },
  {
   "cell_type": "code",
   "execution_count": 17,
   "metadata": {},
   "outputs": [
    {
     "name": "stdout",
     "output_type": "stream",
     "text": [
      "Vertical: CCCUCAUCGCAUCUCCGCUC\n",
      "Horizont: CCCCGCCGCGCCC\n",
      "Linha 3: -2\n",
      "Linha 4: -1\n",
      "Linha 5: 3\n"
     ]
    }
   ],
   "source": [
    "# teste de uso das variáveis\n",
    "print(\"Vertical:\", read_arq()[0])\n",
    "print(\"Horizontal:\", read_arq()[1])\n",
    "print(\"Linha 3:\", read_arq()[2])\n",
    "print(\"Linha 4:\", read_arq()[3])\n",
    "print(\"Linha 5:\", read_arq()[4])"
   ]
  }
 ],
 "metadata": {
  "kernelspec": {
   "display_name": "Python 3",
   "language": "python",
   "name": "python3"
  },
  "language_info": {
   "codemirror_mode": {
    "name": "ipython",
    "version": 3
   },
   "file_extension": ".py",
   "mimetype": "text/x-python",
   "name": "python",
   "nbconvert_exporter": "python",
   "pygments_lexer": "ipython3",
   "version": "3.10.12"
  }
 },
 "nbformat": 4,
 "nbformat_minor": 2
}
